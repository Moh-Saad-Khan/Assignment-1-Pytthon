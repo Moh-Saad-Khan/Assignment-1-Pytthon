{
 "cells": [
  {
   "cell_type": "code",
   "execution_count": 1,
   "id": "87689a12",
   "metadata": {},
   "outputs": [
    {
     "name": "stdout",
     "output_type": "stream",
     "text": [
      "Twinkle Twinkle, little star,\n",
      "\tHow I wonder what you are!\n",
      "\t\tUp above the world so high,\n",
      "\t\tLike a diamond in the sky.\n",
      "Twinkle Twinkle, little star,\n",
      "\tHow I wonder what you are\n"
     ]
    }
   ],
   "source": [
    "#Q1\n",
    "print(\"Twinkle Twinkle, little star,\\n\\tHow I wonder what you are!\\n\\t\\tUp above the world so high,\\n\\t\\tLike a diamond in the sky.\\nTwinkle Twinkle, little star,\\n\\tHow I wonder what you are\")\n"
   ]
  },
  {
   "cell_type": "code",
   "execution_count": 3,
   "id": "4a2326ec",
   "metadata": {},
   "outputs": [
    {
     "name": "stdout",
     "output_type": "stream",
     "text": [
      "Python Version :  3.9.7 (default, Sep 16 2021, 16:59:28) [MSC v.1916 64 bit (AMD64)]\n",
      "Python version info: sys.version_info(major=3, minor=9, micro=7, releaselevel='final', serial=0)\n"
     ]
    }
   ],
   "source": [
    "#Q2\n",
    "import sys\n",
    "print(\"Python Version : \",sys.version)\n",
    "print(\"Python version info:\",sys.version_info)"
   ]
  },
  {
   "cell_type": "code",
   "execution_count": 5,
   "id": "a4075a7c",
   "metadata": {},
   "outputs": [
    {
     "name": "stdout",
     "output_type": "stream",
     "text": [
      "01-Jan-2022 \n",
      " 22:49:51\n"
     ]
    }
   ],
   "source": [
    "#Q3\n",
    "\n",
    "from datetime import datetime\n",
    "\n",
    "now = datetime.now()\n",
    "today = now.strftime(\"%d-%b-%Y \\n %H:%M:%S\")\n",
    "print( today)"
   ]
  },
  {
   "cell_type": "code",
   "execution_count": 6,
   "id": "d36414e1",
   "metadata": {},
   "outputs": [
    {
     "name": "stdout",
     "output_type": "stream",
     "text": [
      "Enter Radius of circle23.6\n",
      "The Area of Circle having Radius 23.6 is : 1749.7414443433715\n"
     ]
    }
   ],
   "source": [
    "#Q4\n",
    "from math import pi\n",
    "r = float(input(\"Enter Radius of circle\"))\n",
    "a = pi*r*r\n",
    "print(\"The Area of Circle having Radius {0} is : {1}\".format(r,a))"
   ]
  },
  {
   "cell_type": "code",
   "execution_count": 7,
   "id": "276fb157",
   "metadata": {},
   "outputs": [
    {
     "name": "stdout",
     "output_type": "stream",
     "text": [
      "Enter your First Name : Saad\n",
      "Enter your Last Name : Khan\n",
      "Khan Saad\n"
     ]
    }
   ],
   "source": [
    "#Q5\n",
    "firstname = input(\"Enter your First Name : \")\n",
    "lastname = input(\"Enter your Last Name : \")\n",
    "print (lastname + \" \" + firstname)"
   ]
  },
  {
   "cell_type": "code",
   "execution_count": 8,
   "id": "8ab01d59",
   "metadata": {},
   "outputs": [
    {
     "name": "stdout",
     "output_type": "stream",
     "text": [
      "Enter First Number: 21\n",
      "Enter Second Number: 32.3\n",
      "The sum of 21 and 32.3 is 53.3\n"
     ]
    }
   ],
   "source": [
    "#Q6\n",
    "num1=input(\"Enter First Number: \")\n",
    "num2=input(\"Enter Second Number: \")\n",
    "sum = float(num1) + float(num2)\n",
    "print('The sum of {0} and {1} is {2}'.format(num1, num2, sum))"
   ]
  },
  {
   "cell_type": "code",
   "execution_count": null,
   "id": "3b8a88a7",
   "metadata": {},
   "outputs": [],
   "source": []
  }
 ],
 "metadata": {
  "kernelspec": {
   "display_name": "Python 3 (ipykernel)",
   "language": "python",
   "name": "python3"
  },
  "language_info": {
   "codemirror_mode": {
    "name": "ipython",
    "version": 3
   },
   "file_extension": ".py",
   "mimetype": "text/x-python",
   "name": "python",
   "nbconvert_exporter": "python",
   "pygments_lexer": "ipython3",
   "version": "3.9.7"
  }
 },
 "nbformat": 4,
 "nbformat_minor": 5
}
